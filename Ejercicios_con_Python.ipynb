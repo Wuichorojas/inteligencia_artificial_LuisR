{
  "nbformat": 4,
  "nbformat_minor": 0,
  "metadata": {
    "colab": {
      "provenance": [],
      "toc_visible": true,
      "authorship_tag": "ABX9TyMkabVtrVNDEqotnTdtotnW",
      "include_colab_link": true
    },
    "kernelspec": {
      "name": "python3",
      "display_name": "Python 3"
    },
    "language_info": {
      "name": "python"
    }
  },
  "cells": [
    {
      "cell_type": "markdown",
      "metadata": {
        "id": "view-in-github",
        "colab_type": "text"
      },
      "source": [
        "<a href=\"https://colab.research.google.com/github/Wuichorojas/inteligencia_artificial_LuisR/blob/Master/Ejercicios_con_Python.ipynb\" target=\"_parent\"><img src=\"https://colab.research.google.com/assets/colab-badge.svg\" alt=\"Open In Colab\"/></a>"
      ]
    },
    {
      "cell_type": "markdown",
      "source": [
        "# Ejercicio Python taller automotriz"
      ],
      "metadata": {
        "id": "nIgv3S2Iract"
      }
    },
    {
      "cell_type": "markdown",
      "source": [
        "Clase de repuestos y función init para crear una nueva lista"
      ],
      "metadata": {
        "id": "2kNkW6ignk0x"
      }
    },
    {
      "cell_type": "code",
      "execution_count": null,
      "metadata": {
        "id": "Srih01bEnkLf"
      },
      "outputs": [],
      "source": [
        "class InvRepuestos:\n",
        " def __init__(self):\n",
        "    self.repuestos = {}"
      ]
    },
    {
      "cell_type": "markdown",
      "source": [
        "Primera función para agregar repuestos pidiendo como parámetos un nombre, cantidad a agregar y cantidad mínima que debe haber en almacén"
      ],
      "metadata": {
        "id": "SfslhSvuoA1G"
      }
    },
    {
      "cell_type": "code",
      "source": [
        " def agregar_repuesto(self, nombre, cantidad, cantidad_minima):\n",
        "  if nombre in self.repuestos:\n",
        "    self.repuestos[nombre]['cantidad'] += cantidad\n",
        "  else:\n",
        "    self.repuestos[nombre] = {'cantidad': cantidad, 'cantidad_minima': cantidad_minima}\n",
        "    print(f\"Se han agregado {cantidad} unidades de {nombre}. La cantidad mínima es {cantidad_minima}.\")"
      ],
      "metadata": {
        "id": "K_aISWqLoML6"
      },
      "execution_count": null,
      "outputs": []
    },
    {
      "cell_type": "markdown",
      "source": [
        "Segunda función para eliminar repuestos pidiendo como parámetro el nombre, si no está, arroja mensaje donde no existe en el inventario"
      ],
      "metadata": {
        "id": "gDJbA5aNoSQg"
      }
    },
    {
      "cell_type": "code",
      "source": [
        "  def eliminar_repuesto(self, nombre):\n",
        "    if nombre in self.repuestos:\n",
        "      del self.repuestos[nombre]\n",
        "      print(f\"{nombre} se ha eliminado del inventario\")\n",
        "    else:\n",
        "      print(f\"{nombre} no existe en el inventario. No se puede eliminar.\")"
      ],
      "metadata": {
        "id": "yCkvX_yfodK9"
      },
      "execution_count": null,
      "outputs": []
    },
    {
      "cell_type": "markdown",
      "source": [
        "Tercera función para consultar el stock del inventario"
      ],
      "metadata": {
        "id": "cXuAtLs0ogpx"
      }
    },
    {
      "cell_type": "code",
      "source": [
        "  def consulta_inventario(self):\n",
        "    if self.repuestos:\n",
        "      print(\"\\nInventario actual:\")\n",
        "      for nombre, cantidad in self.repuestos.items():\n",
        "        print(f\"{nombre}: {cantidad['cantidad']} repuestos\")\n",
        "    else:\n",
        "      print(f\"El inventario está vacío\")"
      ],
      "metadata": {
        "id": "4dtnwZGWorIw"
      },
      "execution_count": null,
      "outputs": []
    },
    {
      "cell_type": "markdown",
      "source": [
        "Cuarta función para saber si se debe realizar una compra, se consulta cuanto hay en el inventario y cual es la cantidad minima para saber si se debe comprar más o no"
      ],
      "metadata": {
        "id": "XmAkxZoLosgz"
      }
    },
    {
      "cell_type": "code",
      "source": [
        "  def realizar_compra(self, nombre):\n",
        "    if nombre in self.repuestos:\n",
        "      cantidad_actual = self.repuestos[nombre]['cantidad']\n",
        "      cantidad_minima = self.repuestos[nombre]['cantidad_minima']\n",
        "      if cantidad_actual < cantidad_minima:\n",
        "        print(f\"La cantidad de {nombre} es baja. {cantidad_actual} repuestos. Se recomienda comprar más\")\n",
        "      else:\n",
        "        print(f\"{nombre} tiene suficiente repuestos en el inventario. {cantidad_actual} repuestos\")\n",
        "    else:\n",
        "        print(f\"{nombre} no existe en el inventario\")"
      ],
      "metadata": {
        "id": "XacE1s7FpC55"
      },
      "execution_count": null,
      "outputs": []
    },
    {
      "cell_type": "markdown",
      "source": [
        "Creamos un objeto de la clase InvRepuestos y lo usamos para llamar a todas nuestras funciones"
      ],
      "metadata": {
        "id": "Q1TzpUH-pGeZ"
      }
    },
    {
      "cell_type": "code",
      "source": [
        "inventario = InvRepuestos()\n",
        "\n",
        "inventario.agregar_repuesto(\"Filtro de aceite\", 5, 10)\n",
        "inventario.agregar_repuesto(\"Balatas\", 5, 3)\n",
        "\n",
        "inventario.consulta_inventario()\n",
        "\n",
        "inventario.realizar_compra(\"Filtro de aceite\")\n",
        "inventario.realizar_compra(\"Balatas\")\n",
        "\n",
        "inventario.eliminar_repuesto(\"Filtro de aceite\")"
      ],
      "metadata": {
        "colab": {
          "base_uri": "https://localhost:8080/"
        },
        "id": "cHG7tZ_0pR4S",
        "outputId": "5c0ccc68-b56a-40f9-8694-52d966c58857"
      },
      "execution_count": null,
      "outputs": [
        {
          "output_type": "stream",
          "name": "stdout",
          "text": [
            "Se han agregado 5 unidades de Filtro de aceite. La cantidad mínima es 10.\n",
            "Se han agregado 5 unidades de Balatas. La cantidad mínima es 3.\n",
            "\n",
            "Inventario actual:\n",
            "Filtro de aceite: 5 repuestos\n",
            "Balatas: 5 repuestos\n",
            "La cantidad de Filtro de aceite es baja. 5 repuestos. Se recomienda comprar más\n",
            "Balatas tiene suficiente repuestos en el inventario. 5 repuestos\n",
            "Filtro de aceite se ha eliminado del inventario\n"
          ]
        }
      ]
    },
    {
      "cell_type": "markdown",
      "source": [
        "# Dinero por horas trabajadas"
      ],
      "metadata": {
        "id": "zMcyJJe3gpGf"
      }
    },
    {
      "cell_type": "markdown",
      "source": [
        "Introducir tarifa por hora"
      ],
      "metadata": {
        "id": "sNLKA8T7g6OJ"
      }
    },
    {
      "cell_type": "code",
      "source": [
        "tph = input(\"\\nTarifa por hora: \")\n",
        "t = float(tph)"
      ],
      "metadata": {
        "colab": {
          "base_uri": "https://localhost:8080/"
        },
        "id": "dx2oWVSZg58O",
        "outputId": "381a315f-58cf-46c5-f048-3581e6bb2a70"
      },
      "execution_count": 5,
      "outputs": [
        {
          "name": "stdout",
          "output_type": "stream",
          "text": [
            "\n",
            "Tarifa por hora: 20\n"
          ]
        }
      ]
    },
    {
      "cell_type": "markdown",
      "source": [
        "Número de proyectos trabajados"
      ],
      "metadata": {
        "id": "wosJJ3YNg-HK"
      }
    },
    {
      "cell_type": "code",
      "source": [
        "num_proy = int(input(\"\\nNúmero de proyectos colaborados: \"))"
      ],
      "metadata": {
        "colab": {
          "base_uri": "https://localhost:8080/"
        },
        "id": "GABie6-FhBiL",
        "outputId": "6e25aaa2-fe6a-46a3-fc59-b9ce8860eed9"
      },
      "execution_count": 6,
      "outputs": [
        {
          "name": "stdout",
          "output_type": "stream",
          "text": [
            "\n",
            "Número de proyectos colaborados: 2\n"
          ]
        }
      ]
    },
    {
      "cell_type": "markdown",
      "source": [
        "Se inicia el contador en 0"
      ],
      "metadata": {
        "id": "IQb_L7wWqp6o"
      }
    },
    {
      "cell_type": "code",
      "source": [
        "pago_final = 0"
      ],
      "metadata": {
        "id": "m95imD0eqqJO"
      },
      "execution_count": 7,
      "outputs": []
    },
    {
      "cell_type": "markdown",
      "source": [
        "En el ciclo for, se introducen las horas trabajadas en en cada proyecto, se muestra el pago por proyecto y se acumula al total final"
      ],
      "metadata": {
        "id": "oyJVlrekhJIw"
      }
    },
    {
      "cell_type": "code",
      "source": [
        "for i in range(1, num_proy + 1):\n",
        "\n",
        "    hrs = input(f\"\\nHoras trabajadas en el proyecto {i}:\")\n",
        "    h = float(hrs)\n",
        "\n",
        "    pago = h * t\n",
        "    print (f\"\\nEl pago para el proyecto {i}, es de: {pago}\\n\")\n",
        "\n",
        "    pago_final += pago"
      ],
      "metadata": {
        "colab": {
          "base_uri": "https://localhost:8080/"
        },
        "id": "hKOKWRFohIeA",
        "outputId": "125e99b3-00bf-49a2-a438-118665b5e1fd"
      },
      "execution_count": 8,
      "outputs": [
        {
          "output_type": "stream",
          "name": "stdout",
          "text": [
            "\n",
            "Horas trabajadas en el proyecto 1:2\n",
            "\n",
            "El pago para el proyecto 1, es de: 40.0\n",
            "\n",
            "\n",
            "Horas trabajadas en el proyecto 2:2\n",
            "\n",
            "El pago para el proyecto 2, es de: 40.0\n",
            "\n"
          ]
        }
      ]
    },
    {
      "cell_type": "markdown",
      "source": [
        "Se imprime el total pagado y el número de proyectos trabajados"
      ],
      "metadata": {
        "id": "59T-eh9RrUP2"
      }
    },
    {
      "cell_type": "code",
      "source": [
        "print(f\"\\nEl pago final por el/los {num_proy} proyecto(s) trabajado(s) es de {pago_final}\\n\")"
      ],
      "metadata": {
        "colab": {
          "base_uri": "https://localhost:8080/"
        },
        "id": "uiLlqWiBrUuP",
        "outputId": "309b3597-9341-46af-abf0-5dfc9b6aa622"
      },
      "execution_count": 10,
      "outputs": [
        {
          "output_type": "stream",
          "name": "stdout",
          "text": [
            "\n",
            "El pago final por el/los 2 proyecto(s) trabajado(s) es de 80.0\n",
            "\n"
          ]
        }
      ]
    }
  ]
}