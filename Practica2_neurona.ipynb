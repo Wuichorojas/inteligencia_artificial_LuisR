{
  "nbformat": 4,
  "nbformat_minor": 0,
  "metadata": {
    "colab": {
      "provenance": [],
      "toc_visible": true,
      "authorship_tag": "ABX9TyOU5U38MklY7u+SSgaBYyxt",
      "include_colab_link": true
    },
    "kernelspec": {
      "name": "python3",
      "display_name": "Python 3"
    },
    "language_info": {
      "name": "python"
    }
  },
  "cells": [
    {
      "cell_type": "markdown",
      "metadata": {
        "id": "view-in-github",
        "colab_type": "text"
      },
      "source": [
        "<a href=\"https://colab.research.google.com/github/Wuichorojas/inteligencia_artificial_LuisR/blob/Master/Practica2_neurona.ipynb\" target=\"_parent\"><img src=\"https://colab.research.google.com/assets/colab-badge.svg\" alt=\"Open In Colab\"/></a>"
      ]
    },
    {
      "cell_type": "markdown",
      "source": [
        "# Neurona aprendizaje compuerta ADN\n",
        "\n",
        "\n",
        "---\n",
        "00 -> 0 weight=   \n",
        "01 -> 0 weigth=  \n",
        "10 -> 0 weight=     \n",
        "11 -> 1 weight=\n",
        "\n"
      ],
      "metadata": {
        "id": "FmZ-xtO_nCAS"
      }
    },
    {
      "cell_type": "code",
      "execution_count": 5,
      "metadata": {
        "colab": {
          "base_uri": "https://localhost:8080/"
        },
        "id": "4YyuBCgBm-LY",
        "outputId": "da24d69d-049d-47eb-a38c-32f78f40f987"
      },
      "outputs": [
        {
          "output_type": "stream",
          "name": "stdout",
          "text": [
            "-1\n",
            "0 AND 0 = 0\n"
          ]
        }
      ],
      "source": [
        "x=[0,0]\n",
        "w=[1,1]\n",
        "s=-1\n",
        "y=0\n",
        "#and\n",
        "for i in range(0,2):\n",
        "  s=s+x[i]*w[i]\n",
        "print(s)\n",
        "\n",
        "y=1 if s>0 else 0\n",
        "print(x[0], 'AND',x[1],'=',y)"
      ]
    }
  ]
}