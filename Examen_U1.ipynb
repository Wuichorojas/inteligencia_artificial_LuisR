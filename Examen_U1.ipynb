{
  "nbformat": 4,
  "nbformat_minor": 0,
  "metadata": {
    "colab": {
      "provenance": [],
      "authorship_tag": "ABX9TyP7Cm5rnoMd7sL6C24Hx+qy",
      "include_colab_link": true
    },
    "kernelspec": {
      "name": "python3",
      "display_name": "Python 3"
    },
    "language_info": {
      "name": "python"
    }
  },
  "cells": [
    {
      "cell_type": "markdown",
      "metadata": {
        "id": "view-in-github",
        "colab_type": "text"
      },
      "source": [
        "<a href=\"https://colab.research.google.com/github/Wuichorojas/inteligencia_artificial_LuisR/blob/Master/Examen_U1.ipynb\" target=\"_parent\"><img src=\"https://colab.research.google.com/assets/colab-badge.svg\" alt=\"Open In Colab\"/></a>"
      ]
    },
    {
      "cell_type": "code",
      "execution_count": 2,
      "metadata": {
        "colab": {
          "base_uri": "https://localhost:8080/"
        },
        "id": "2Dww9d9nef-g",
        "outputId": "52f22239-dbb0-44d5-92e4-1cc85a733df6"
      },
      "outputs": [
        {
          "output_type": "stream",
          "name": "stdout",
          "text": [
            "Data-sheet 1 a comprobar en AND y OR: 0\n",
            "Data-sheet 2 a comprobar en AND y OR: 1\n",
            "0\n",
            "0 AND 1 = 0\n",
            "0.5\n",
            "0 OR 1 = 1\n",
            "¿Quieres introducir otro Data-sheet? (s/n): s\n",
            "Data-sheet 1 a comprobar en AND y OR: 1\n",
            "Data-sheet 2 a comprobar en AND y OR: 0\n",
            "0\n",
            "1 AND 0 = 0\n",
            "0.5\n",
            "1 OR 0 = 1\n",
            "¿Quieres introducir otro Data-sheet? (s/n): s\n",
            "Data-sheet 1 a comprobar en AND y OR: 0\n",
            "Data-sheet 2 a comprobar en AND y OR: 0\n",
            "-1\n",
            "0 AND 0 = 0\n",
            "-0.5\n",
            "0 OR 0 = 0\n",
            "¿Quieres introducir otro Data-sheet? (s/n): s\n",
            "Data-sheet 1 a comprobar en AND y OR: 1\n",
            "Data-sheet 2 a comprobar en AND y OR: 1\n",
            "1\n",
            "1 AND 1 = 1\n",
            "1.5\n",
            "1 OR 1 = 1\n",
            "¿Quieres introducir otro Data-sheet? (s/n): n\n",
            "Terminando el programa...\n"
          ]
        }
      ],
      "source": [
        "# Se inicia el código sin ninguna condición inicial\n",
        "while True:\n",
        "    # Se introducen las entradas de las compuertas y se guardan en e1 y e2\n",
        "    ent1 = input(\"Data-sheet 1 a comprobar en AND y OR: \")\n",
        "    ent2 = input(\"Data-sheet 2 a comprobar en AND y OR: \")\n",
        "    e1 = int(ent1)\n",
        "    e2 = int(ent2)\n",
        "\n",
        "    # Se mandan las entradas a la arreglo X además de quedar como constantes los\n",
        "    # pesos y los sesgos\n",
        "    x = [e1, e2]\n",
        "    w = [1, 1]\n",
        "    s_and = -1\n",
        "    s_or = -0.5\n",
        "\n",
        "    # El for hace la operación para cada entrada y peso\n",
        "    for i in range(0, 2):\n",
        "        s_and = s_and + x[i] * w[i]\n",
        "        s_or = s_or + x[i] * w[i]\n",
        "\n",
        "    # AND, si el resultado de s_and evaluado en el for, es mayor que 0, el\n",
        "    # el resultado será el correcto de la compuerta y lo imprime junto con su sesgo\n",
        "    print(s_and)\n",
        "    y_and = 1 if s_and > 0 else 0\n",
        "    print(x[0], 'AND', x[1], '=', y_and)\n",
        "\n",
        "    # OR, si el resultado de s_or evaluado en el for, es mayor que 0, el\n",
        "    # el resultado será el correcto de la compuerta y lo imprime junto con su sesgo\n",
        "    print(s_or)\n",
        "    y_or = 1 if s_or > 0 else 0\n",
        "    print(x[0], 'OR', x[1], '=', y_or)\n",
        "\n",
        "    # Se pregunta si se quiere comprobar otra entrada, es difente de \"s\" se cierra el bucle\n",
        "    continuar = input(\"¿Quieres introducir otro Data-sheet? (s/n): \").lower()\n",
        "\n",
        "    if continuar != 's':\n",
        "        print(\"Terminando el programa...\")\n",
        "        break"
      ]
    }
  ]
}